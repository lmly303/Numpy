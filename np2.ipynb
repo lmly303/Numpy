{
  "nbformat": 4,
  "nbformat_minor": 0,
  "metadata": {
    "colab": {
      "provenance": [],
      "authorship_tag": "ABX9TyNe8cSlANfLTHcifJr0yF2l",
      "include_colab_link": true
    },
    "kernelspec": {
      "name": "python3",
      "display_name": "Python 3"
    },
    "language_info": {
      "name": "python"
    }
  },
  "cells": [
    {
      "cell_type": "markdown",
      "metadata": {
        "id": "view-in-github",
        "colab_type": "text"
      },
      "source": [
        "<a href=\"https://colab.research.google.com/github/lmly303/Numpy/blob/main/np2.ipynb\" target=\"_parent\"><img src=\"https://colab.research.google.com/assets/colab-badge.svg\" alt=\"Open In Colab\"/></a>"
      ]
    },
    {
      "cell_type": "code",
      "execution_count": 1,
      "metadata": {
        "id": "j2Dvyio-ypID"
      },
      "outputs": [],
      "source": [
        "import numpy as np"
      ]
    },
    {
      "cell_type": "markdown",
      "source": [
        "**Numpy array operations 1D array**"
      ],
      "metadata": {
        "id": "nwDJ12TMyzFu"
      }
    },
    {
      "cell_type": "code",
      "source": [
        "arr = np.array([1,2,3,4,5,6,7,8,9,10])\n",
        "print(\"Basic slicing\", arr[1:5])\n",
        "print(\"with step\", arr[1:8:2])\n",
        "print(\"negative indexing\", arr[5])"
      ],
      "metadata": {
        "colab": {
          "base_uri": "https://localhost:8080/"
        },
        "id": "KkYonGwuywV7",
        "outputId": "ab74b881-a4f5-4eb2-f13d-211bb308a339"
      },
      "execution_count": 2,
      "outputs": [
        {
          "output_type": "stream",
          "name": "stdout",
          "text": [
            "Basic slicing [2 3 4 5]\n",
            "with step [2 4 6 8]\n",
            "negative indexing 6\n"
          ]
        }
      ]
    },
    {
      "cell_type": "markdown",
      "source": [
        "**2D Array**"
      ],
      "metadata": {
        "id": "VjpjMnejzdDa"
      }
    },
    {
      "cell_type": "code",
      "source": [
        "arr_2d = np.array([[1, 2, 3],\n",
        "                   [4, 5, 6],\n",
        "                   [7, 8, 9]])\n",
        "print(\"specific element\", arr_2d[2,1])\n",
        "print(\"entire row\", arr_2d[1,:], arr_2d[2])\n",
        "print(\"entire column\", arr_2d[:,1])"
      ],
      "metadata": {
        "colab": {
          "base_uri": "https://localhost:8080/"
        },
        "id": "5Jdc3z3WzVa8",
        "outputId": "9d55372b-d4f8-4c07-82dc-6f035146b199"
      },
      "execution_count": 3,
      "outputs": [
        {
          "output_type": "stream",
          "name": "stdout",
          "text": [
            "specific element 8\n",
            "entire row [4 5 6] [7 8 9]\n",
            "entire column [2 5 8]\n"
          ]
        }
      ]
    },
    {
      "cell_type": "markdown",
      "source": [
        "**Sorting**"
      ],
      "metadata": {
        "id": "BFetX4GE0Ezb"
      }
    },
    {
      "cell_type": "code",
      "source": [
        "unsorted = np.array([3, 1, 4, 1, 5, 9, 2, 6])\n",
        "print(\"sorted array\", np.sort(unsorted))\n",
        "\n",
        "arr_2d_unsorted = np.array([[3, 1], [1, 2], [2, 3]])\n",
        "print(\"sorted array\", np.sort(arr_2d_unsorted, axis=0)) # sort in column\n",
        "print(\"sorted array\", np.sort(arr_2d_unsorted, axis=1)) # sort in row"
      ],
      "metadata": {
        "colab": {
          "base_uri": "https://localhost:8080/"
        },
        "id": "e6epYCVJ0Bbs",
        "outputId": "717171e9-1ddc-4271-bab7-47b5c40ae16d"
      },
      "execution_count": 5,
      "outputs": [
        {
          "output_type": "stream",
          "name": "stdout",
          "text": [
            "sorted array [1 1 2 3 4 5 6 9]\n",
            "sorted array [[1 1]\n",
            " [2 2]\n",
            " [3 3]]\n",
            "sorted array [[1 3]\n",
            " [1 2]\n",
            " [2 3]]\n"
          ]
        }
      ]
    },
    {
      "cell_type": "markdown",
      "source": [
        "**Filter**"
      ],
      "metadata": {
        "id": "a91rk24e045X"
      }
    },
    {
      "cell_type": "code",
      "source": [
        "numbers = np.array([1, 2, 3, 4, 5, 6, 7, 8, 9, 10])\n",
        "even_numbers = numbers[numbers %2==0]\n",
        "print(\"Even numbers : \", even_numbers)"
      ],
      "metadata": {
        "colab": {
          "base_uri": "https://localhost:8080/"
        },
        "id": "SV-0ex3u0vBX",
        "outputId": "db6ae155-251e-4178-b153-ac1c15671640"
      },
      "execution_count": 6,
      "outputs": [
        {
          "output_type": "stream",
          "name": "stdout",
          "text": [
            "Even numbers :  [ 2  4  6  8 10]\n"
          ]
        }
      ]
    },
    {
      "cell_type": "markdown",
      "source": [
        "**Filter with marks**"
      ],
      "metadata": {
        "id": "7guH5TmhAN1a"
      }
    },
    {
      "cell_type": "code",
      "source": [
        "mask=numbers>5;\n",
        "print(numbers[mask])"
      ],
      "metadata": {
        "colab": {
          "base_uri": "https://localhost:8080/"
        },
        "id": "OHAvwEEm0iHI",
        "outputId": "ce813610-76b9-4d58-e592-72aa4cb97273"
      },
      "execution_count": 7,
      "outputs": [
        {
          "output_type": "stream",
          "name": "stdout",
          "text": [
            "[ 6  7  8  9 10]\n"
          ]
        }
      ]
    },
    {
      "cell_type": "markdown",
      "source": [
        "**Fancy indexing vs np.where**"
      ],
      "metadata": {
        "id": "66SXc6xaAgPW"
      }
    },
    {
      "cell_type": "code",
      "source": [
        "indices=[2,4,6,8]\n",
        "print(\"Fancy indexing : \", numbers[indices])\n",
        "\n",
        "where_result = np.where(numbers>5)\n",
        "print(\"Np where : \", numbers[where_result])\n",
        "print(where_result)"
      ],
      "metadata": {
        "colab": {
          "base_uri": "https://localhost:8080/"
        },
        "id": "K1bEcC0YAW92",
        "outputId": "1db82b9d-bce3-460d-efe0-0134fab13f0b"
      },
      "execution_count": 12,
      "outputs": [
        {
          "output_type": "stream",
          "name": "stdout",
          "text": [
            "Fancy indexing :  [3 5 7 9]\n",
            "Np where :  [ 6  7  8  9 10]\n",
            "(array([5, 6, 7, 8, 9]),)\n"
          ]
        }
      ]
    },
    {
      "cell_type": "code",
      "source": [
        "condition_array = np.where(numbers>5, True, False) # its life if else condition\n",
        "print(condition_array)\n",
        "condition_array2 = np.where(numbers>5, numbers*2, numbers) # agar true ahi toh multiply by 2 warna same number\n",
        "print(condition_array2)"
      ],
      "metadata": {
        "colab": {
          "base_uri": "https://localhost:8080/"
        },
        "id": "PG8ntQsHA27v",
        "outputId": "1e94f54a-82ce-4e5b-e5ab-81446a45ec56"
      },
      "execution_count": 15,
      "outputs": [
        {
          "output_type": "stream",
          "name": "stdout",
          "text": [
            "[False False False False False  True  True  True  True  True]\n",
            "[ 1  2  3  4  5 12 14 16 18 20]\n"
          ]
        }
      ]
    },
    {
      "cell_type": "markdown",
      "source": [
        "**Adding and removing Data**"
      ],
      "metadata": {
        "id": "LKuQ0mBMEe4l"
      }
    },
    {
      "cell_type": "code",
      "source": [
        "arr1 = np.array([1,2,3])\n",
        "arr2 = np.array([4,5,6])\n",
        "\n",
        "combined = np.concatenate((arr1, arr2))\n",
        "print(combined)\n",
        "print(arr1+arr2) # indexing k basis pr values add kardi\n"
      ],
      "metadata": {
        "colab": {
          "base_uri": "https://localhost:8080/"
        },
        "id": "jutIQxzrDur_",
        "outputId": "0bbab06e-6aa1-48a3-e6b5-8c4a2ef4c2b3"
      },
      "execution_count": 17,
      "outputs": [
        {
          "output_type": "stream",
          "name": "stdout",
          "text": [
            "[1 2 3 4 5 6]\n",
            "[5 7 9]\n"
          ]
        }
      ]
    },
    {
      "cell_type": "markdown",
      "source": [
        "**Array Compatibility**"
      ],
      "metadata": {
        "id": "3wtLVD27FLy7"
      }
    },
    {
      "cell_type": "code",
      "source": [
        "a = np.array([1,2,3])\n",
        "b = np.array([4,5,6])\n",
        "c = np.array([7,8,9,10])\n",
        "\n",
        "print(\"Compatibility Shapes : \", a.shape == b.shape)\n",
        "print(\"Compatibility Shapes : \", a.shape == c.shape)"
      ],
      "metadata": {
        "colab": {
          "base_uri": "https://localhost:8080/"
        },
        "id": "lqs-E_dqEtmh",
        "outputId": "a5dd5f4c-4bf9-4a1a-c3ac-a0ed08da723c"
      },
      "execution_count": 19,
      "outputs": [
        {
          "output_type": "stream",
          "name": "stdout",
          "text": [
            "Compatibility Shapes :  True\n",
            "Compatibility Shapes :  False\n"
          ]
        }
      ]
    },
    {
      "cell_type": "code",
      "source": [
        "original = np.array([[1, 2], [3, 4]])\n",
        "new_row = np.array([[5, 6]])\n",
        "\n",
        "with_new_row = np.vstack((original,new_row)) # vstack hamesha row add karta hai\n",
        "print(original)\n",
        "print(with_new_row)\n",
        "\n",
        "new_col = np.array([[7], [8]])\n",
        "with_new_col = np.hstack((original, new_col)) # hstack se column add hota hai\n",
        "print(\"With new column\", with_new_col)"
      ],
      "metadata": {
        "colab": {
          "base_uri": "https://localhost:8080/"
        },
        "id": "9aLMbCglFm5v",
        "outputId": "b256fd64-be2e-442c-d737-2f16091a6b0b"
      },
      "execution_count": 22,
      "outputs": [
        {
          "output_type": "stream",
          "name": "stdout",
          "text": [
            "[[1 2]\n",
            " [3 4]]\n",
            "[[1 2]\n",
            " [3 4]\n",
            " [5 6]]\n",
            "With new column [[1 2 7]\n",
            " [3 4 8]]\n"
          ]
        }
      ]
    },
    {
      "cell_type": "markdown",
      "source": [
        "**Deleteing from an array**"
      ],
      "metadata": {
        "id": "arzDAAVOGxmh"
      }
    },
    {
      "cell_type": "code",
      "source": [
        "arr = np.array([1, 2, 3, 4, 5, 6, 7, 8])\n",
        "deleted = np.delete(arr, 2) # index dena hota hai\n",
        "print(\"Array after deletion: \", deleted)\n",
        "\n",
        "deleted2 = np.delete(arr, (2,4)) # index dena hota hai\n",
        "print(\"Array after deletion: \", deleted2)\n"
      ],
      "metadata": {
        "colab": {
          "base_uri": "https://localhost:8080/"
        },
        "id": "WjFu3hBsGI5U",
        "outputId": "9acb0427-d5b6-4879-b8fd-6f61a669a692"
      },
      "execution_count": 25,
      "outputs": [
        {
          "output_type": "stream",
          "name": "stdout",
          "text": [
            "Array after deletion:  [1 2 4 5 6 7 8]\n",
            "Array after deletion:  [1 2 4 6 7 8]\n"
          ]
        }
      ]
    },
    {
      "cell_type": "code",
      "source": [],
      "metadata": {
        "id": "e91hDhH-G15J"
      },
      "execution_count": null,
      "outputs": []
    }
  ]
}