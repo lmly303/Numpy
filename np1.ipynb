{
  "nbformat": 4,
  "nbformat_minor": 0,
  "metadata": {
    "colab": {
      "provenance": [],
      "authorship_tag": "ABX9TyOFIpdTK9x4FkZqgh1oRyhh",
      "include_colab_link": true
    },
    "kernelspec": {
      "name": "python3",
      "display_name": "Python 3"
    },
    "language_info": {
      "name": "python"
    }
  },
  "cells": [
    {
      "cell_type": "markdown",
      "metadata": {
        "id": "view-in-github",
        "colab_type": "text"
      },
      "source": [
        "<a href=\"https://colab.research.google.com/github/lmly303/Numpy/blob/main/np1.ipynb\" target=\"_parent\"><img src=\"https://colab.research.google.com/assets/colab-badge.svg\" alt=\"Open In Colab\"/></a>"
      ]
    },
    {
      "cell_type": "code",
      "execution_count": 1,
      "metadata": {
        "id": "auIhmnv8YOW3"
      },
      "outputs": [],
      "source": [
        "import numpy as np"
      ]
    },
    {
      "cell_type": "markdown",
      "source": [
        "**Creating array from list**"
      ],
      "metadata": {
        "id": "N2t8__VpZeWi"
      }
    },
    {
      "cell_type": "code",
      "source": [
        "arr_1d = np.array([1,2,3,4])\n",
        "print(\"1d array : \", arr_1d)\n",
        "\n",
        "arr_2d = np.array([[1,2,3],[4,5,6]])\n",
        "print(\"2d array : \", arr_2d)\n"
      ],
      "metadata": {
        "colab": {
          "base_uri": "https://localhost:8080/"
        },
        "id": "ZWZomwhOYQ6X",
        "outputId": "17e97d17-873c-44ce-94f8-8a302f7ff765"
      },
      "execution_count": 4,
      "outputs": [
        {
          "output_type": "stream",
          "name": "stdout",
          "text": [
            "1d array :  [1 2 3 4]\n",
            "2d array :  [[1 2 3]\n",
            " [4 5 6]]\n"
          ]
        }
      ]
    },
    {
      "cell_type": "markdown",
      "source": [
        "**List vs numpy array**"
      ],
      "metadata": {
        "id": "LUQXslNOZ8rh"
      }
    },
    {
      "cell_type": "code",
      "source": [
        "py_list = [1,2,3] # write the array the no. of times [1,2,3,1,2,3]\n",
        "print(\"Python list multiplication \", py_list * 2)\n",
        "\n",
        "np_array = np.array([1,2,3]) # element wise multiplication [2,4,6]\n",
        "print(\"Numpy array multiplication \", np_array * 2)\n",
        "\n",
        "import time\n",
        "start = time.time()\n",
        "py_list = [i*2 for i in range(1000000)]\n",
        "print(\"\\n List operation time: \", time.time() - start)\n",
        "\n",
        "start = time.time()\n",
        "np_array = np.arange(1000000) * 2\n",
        "print(\"\\n Numpy operation time: \", time.time() - start)"
      ],
      "metadata": {
        "colab": {
          "base_uri": "https://localhost:8080/"
        },
        "id": "yTGw-XM-Zih5",
        "outputId": "81e53d66-2577-4136-9263-ba3afaddd8d0"
      },
      "execution_count": 3,
      "outputs": [
        {
          "output_type": "stream",
          "name": "stdout",
          "text": [
            "Python list multiplication  [1, 2, 3, 1, 2, 3]\n",
            "Numpy array multiplication  [2 4 6]\n",
            "\n",
            " List operation time:  0.0742800235748291\n",
            "\n",
            " Numpy operation time:  0.0234527587890625\n"
          ]
        }
      ]
    },
    {
      "cell_type": "markdown",
      "source": [
        "**Creating array from scratch**"
      ],
      "metadata": {
        "id": "D6XUxyPGazwr"
      }
    },
    {
      "cell_type": "code",
      "source": [
        "zero = np.zeros((2,3))\n",
        "print(\"zero array :\",zero)\n",
        "\n",
        "one = np.ones((2,2))\n",
        "print(\"one array :\",one)\n",
        "\n",
        "full = np.full((2,2),7)\n",
        "print(\"full array :\",full)\n",
        "\n",
        "random = np.random.random((2,2))\n",
        "print(\"random array :\",random)\n",
        "\n",
        "sequence = np.arange(0,10,2)\n",
        "print(\"sequence array :\",sequence)\n"
      ],
      "metadata": {
        "colab": {
          "base_uri": "https://localhost:8080/"
        },
        "id": "dUrx7uBlanre",
        "outputId": "efb27f1f-ea33-43f3-b59d-7f97e586f1ed"
      },
      "execution_count": 23,
      "outputs": [
        {
          "output_type": "stream",
          "name": "stdout",
          "text": [
            "zero array : [[0. 0. 0.]\n",
            " [0. 0. 0.]]\n",
            "one array : [[1. 1.]\n",
            " [1. 1.]]\n",
            "full array : [[7 7]\n",
            " [7 7]]\n",
            "random array : [[0.69524775 0.26129546]\n",
            " [0.19501702 0.041386  ]]\n",
            "sequence array : [0 2 4 6 8]\n"
          ]
        }
      ]
    },
    {
      "cell_type": "markdown",
      "source": [
        "**Vector, Matrix and Tensor**"
      ],
      "metadata": {
        "id": "exC8WPZOb9IR"
      }
    },
    {
      "cell_type": "code",
      "source": [
        "vector = np.array([1,2,3])\n",
        "print(\"vector : \", vector)\n",
        "\n",
        "matrix = np.array([[1,2,3],[4,5,6]])\n",
        "print(\"matrix : \", matrix)\n",
        "\n",
        "tensor = np.array([[[1,2,3],[4,5,6]],[[7,8,9],[10,11,12]]])\n",
        "print(\"tensor : \", tensor)"
      ],
      "metadata": {
        "colab": {
          "base_uri": "https://localhost:8080/"
        },
        "id": "OVd5YeBNbTTy",
        "outputId": "98dd10f3-019d-469d-9dc6-76b6a45d7aee"
      },
      "execution_count": 9,
      "outputs": [
        {
          "output_type": "stream",
          "name": "stdout",
          "text": [
            "vector :  [1 2 3]\n",
            "matrix :  [[1 2 3]\n",
            " [4 5 6]]\n",
            "tensor :  [[[ 1  2  3]\n",
            "  [ 4  5  6]]\n",
            "\n",
            " [[ 7  8  9]\n",
            "  [10 11 12]]]\n"
          ]
        }
      ]
    },
    {
      "cell_type": "markdown",
      "source": [
        "**Array Properties**"
      ],
      "metadata": {
        "id": "z7d4t2OWcyu1"
      }
    },
    {
      "cell_type": "code",
      "source": [
        "array = np.array([[1,2,3],[4,5,6]])\n",
        "print(\"shape of array : \", array)\n",
        "print(\"size of array : \", array.size)\n",
        "print(\"dimension of array : \", array.ndim)\n",
        "print(\"data type of array : \", array.dtype)"
      ],
      "metadata": {
        "colab": {
          "base_uri": "https://localhost:8080/"
        },
        "id": "k9IfwvEJcxV1",
        "outputId": "6c3920ac-4e4e-491b-a2d3-0f080675d5e1"
      },
      "execution_count": 24,
      "outputs": [
        {
          "output_type": "stream",
          "name": "stdout",
          "text": [
            "shape of array :  [[1 2 3]\n",
            " [4 5 6]]\n",
            "size of array :  6\n",
            "dimension of array :  2\n",
            "data type of array :  int64\n"
          ]
        }
      ]
    },
    {
      "cell_type": "markdown",
      "source": [
        "**Array Reshaping**"
      ],
      "metadata": {
        "id": "T0FrbSQzdeD5"
      }
    },
    {
      "cell_type": "code",
      "source": [
        "array = np.arange(12)\n",
        "print(\"original array : \",array)\n",
        "\n",
        "reshaped = array.reshape((3,4))\n",
        "print(\"reshaped array : \",reshaped)\n",
        "\n",
        "flatened = reshaped.flatten() # returns a copy\n",
        "print(\"flatened array : \",flatened)\n",
        "\n",
        "revaled = reshaped.ravel() # returns a view insted of a copy\n",
        "print(\"revaled array : \",revaled)\n",
        "\n",
        "\n",
        "#transpose\n",
        "transpose = reshaped.T\n",
        "print(\"transpose array : \",transpose)"
      ],
      "metadata": {
        "colab": {
          "base_uri": "https://localhost:8080/"
        },
        "id": "PlY75uSFdMk6",
        "outputId": "8ddd84fe-463e-40af-df4b-68c20e42a5ca"
      },
      "execution_count": 17,
      "outputs": [
        {
          "output_type": "stream",
          "name": "stdout",
          "text": [
            "original array :  [ 0  1  2  3  4  5  6  7  8  9 10 11]\n",
            "reshaped array :  [[ 0  1  2  3]\n",
            " [ 4  5  6  7]\n",
            " [ 8  9 10 11]]\n",
            "flatened array :  [ 0  1  2  3  4  5  6  7  8  9 10 11]\n",
            "revaled array :  [ 0  1  2  3  4  5  6  7  8  9 10 11]\n",
            "transpose array :  [[ 0  4  8]\n",
            " [ 1  5  9]\n",
            " [ 2  6 10]\n",
            " [ 3  7 11]]\n"
          ]
        }
      ]
    },
    {
      "cell_type": "code",
      "source": [
        "array = np.array([1,2, True])\n",
        "print(array)"
      ],
      "metadata": {
        "colab": {
          "base_uri": "https://localhost:8080/"
        },
        "id": "sYsi9gwlfqGv",
        "outputId": "3705bdf2-19a0-4401-9ea7-a95e4aea94e0"
      },
      "execution_count": 19,
      "outputs": [
        {
          "output_type": "stream",
          "name": "stdout",
          "text": [
            "[1 2 1]\n"
          ]
        }
      ]
    },
    {
      "cell_type": "code",
      "source": [],
      "metadata": {
        "id": "KWuKGUsCfvng"
      },
      "execution_count": null,
      "outputs": []
    }
  ]
}